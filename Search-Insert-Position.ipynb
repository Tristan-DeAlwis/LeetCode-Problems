{
 "cells": [
  {
   "cell_type": "markdown",
   "metadata": {},
   "source": [
    "Given a sorted array and a target value, return the index if the target is found. If not, return the index where it would be if it were inserted in order.\n",
    "\n",
    "You may assume no duplicates in the array.\n",
    "\n",
    "**Example 1:**\n",
    "\n",
    "    Input: [1,3,5,6], 5\n",
    "    Output: 2\n",
    "\n",
    "**Example 2:**\n",
    "\n",
    "    Input: [1,3,5,6], 2\n",
    "    Output: 1\n",
    "\n",
    "**Example 3:**\n",
    "\n",
    "    Input: [1,3,5,6], 7\n",
    "    Output: 4\n",
    "\n",
    "**Example 4:**\n",
    "\n",
    "    Input: [1,3,5,6], 0\n",
    "    Output: 0"
   ]
  },
  {
   "cell_type": "code",
   "execution_count": 29,
   "metadata": {},
   "outputs": [],
   "source": [
    "class Solution:\n",
    "    def searchInsert(self, nums, target):\n",
    "        if target not in nums:\n",
    "            nums.append(target)\n",
    "            nums.sort()\n",
    "            return nums.index(target)\n",
    "        \n",
    "        else:\n",
    "            return nums.index(target)"
   ]
  },
  {
   "cell_type": "code",
   "execution_count": 32,
   "metadata": {
    "scrolled": true
   },
   "outputs": [
    {
     "data": {
      "text/plain": [
       "4"
      ]
     },
     "execution_count": 32,
     "metadata": {},
     "output_type": "execute_result"
    }
   ],
   "source": [
    "nums = [1,5,6,8,14]\n",
    "Solution.searchInsert([],nums, 10)"
   ]
  },
  {
   "cell_type": "code",
   "execution_count": 33,
   "metadata": {},
   "outputs": [
    {
     "data": {
      "text/plain": [
       "1"
      ]
     },
     "execution_count": 33,
     "metadata": {},
     "output_type": "execute_result"
    }
   ],
   "source": [
    "nums = [5,8,9,15,20]\n",
    "Solution.searchInsert([],nums, 8)"
   ]
  },
  {
   "cell_type": "code",
   "execution_count": null,
   "metadata": {},
   "outputs": [],
   "source": []
  }
 ],
 "metadata": {
  "kernelspec": {
   "display_name": "Python 3",
   "language": "python",
   "name": "python3"
  },
  "language_info": {
   "codemirror_mode": {
    "name": "ipython",
    "version": 3
   },
   "file_extension": ".py",
   "mimetype": "text/x-python",
   "name": "python",
   "nbconvert_exporter": "python",
   "pygments_lexer": "ipython3",
   "version": "3.7.4"
  }
 },
 "nbformat": 4,
 "nbformat_minor": 4
}
