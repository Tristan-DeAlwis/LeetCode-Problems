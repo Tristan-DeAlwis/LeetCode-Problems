{
 "cells": [
  {
   "cell_type": "markdown",
   "metadata": {},
   "source": [
    "Given a string, find the length of the <b>longest substring</b> without repeating characters.\n",
    "\n",
    "**Example 1:**\n",
    "    \n",
    "    Input: \"abcabcbb\"\n",
    "    Output: 3 \n",
    "    Explanation: The answer is \"abc\", with the length of 3. \n",
    "\n",
    "**Example 2:**\n",
    "    \n",
    "    Input: \"bbbbb\"\n",
    "    Output: 1\n",
    "    Explanation: The answer is \"b\", with the length of 1.\n",
    "\n",
    "**Example 3:**\n",
    "\n",
    "    Input: \"pwwkew\"\n",
    "    Output: 3\n",
    "    Explanation: The answer is \"wke\", with the length of 3. \n",
    "             Note that the answer must be a substring, \"pwke\" is a subsequence and not a substring."
   ]
  },
  {
   "cell_type": "code",
   "execution_count": 32,
   "metadata": {},
   "outputs": [],
   "source": [
    "class Solution:\n",
    "    def lengthOfLongestSubstring(self, s: str) -> int:\n",
    "        dicts = {}\n",
    "        maxlength = start = 0\n",
    "        \n",
    "        for i,value in enumerate(s):\n",
    "            if value in dicts:\n",
    "                sums = dicts[value] + 1\n",
    "                if sums > start:\n",
    "                    start = sums\n",
    "            print(i, start, maxlength)        \n",
    "            num = i - start + 1\n",
    "            \n",
    "            if num > maxlength:\n",
    "                maxlength = num\n",
    "                \n",
    "            dicts[value] = i\n",
    "        return maxlength\n",
    "        "
   ]
  },
  {
   "cell_type": "code",
   "execution_count": 33,
   "metadata": {},
   "outputs": [],
   "source": [
    "s = \"abcabcbb\""
   ]
  },
  {
   "cell_type": "code",
   "execution_count": 34,
   "metadata": {},
   "outputs": [
    {
     "name": "stdout",
     "output_type": "stream",
     "text": [
      "0 0 0\n",
      "1 0 1\n",
      "2 0 2\n",
      "3 1 3\n",
      "4 2 3\n",
      "5 3 3\n",
      "6 5 3\n",
      "7 7 3\n"
     ]
    },
    {
     "data": {
      "text/plain": [
       "3"
      ]
     },
     "execution_count": 34,
     "metadata": {},
     "output_type": "execute_result"
    }
   ],
   "source": [
    "Solution.lengthOfLongestSubstring([], s)"
   ]
  },
  {
   "cell_type": "code",
   "execution_count": null,
   "metadata": {},
   "outputs": [],
   "source": []
  }
 ],
 "metadata": {
  "kernelspec": {
   "display_name": "Python 3",
   "language": "python",
   "name": "python3"
  },
  "language_info": {
   "codemirror_mode": {
    "name": "ipython",
    "version": 3
   },
   "file_extension": ".py",
   "mimetype": "text/x-python",
   "name": "python",
   "nbconvert_exporter": "python",
   "pygments_lexer": "ipython3",
   "version": "3.7.4"
  }
 },
 "nbformat": 4,
 "nbformat_minor": 4
}
