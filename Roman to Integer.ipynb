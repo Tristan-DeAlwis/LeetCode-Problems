{
 "cells": [
  {
   "cell_type": "code",
   "execution_count": 26,
   "metadata": {},
   "outputs": [],
   "source": [
    "class Solution:\n",
    "    def __init__(self):\n",
    "        self.items = []\n",
    "    \n",
    "    def romanToInt(s):\n",
    "        romans = {'I':1, 'V':5, 'X':10, 'L':50, 'C':100,'D':500, 'M':1000}\n",
    "        ans = 0\n",
    "        index = 0\n",
    "        \n",
    "        for char in s:\n",
    "            if index < len(s)-1:\n",
    "                cur = romans[char]\n",
    "                nex = romans[s[index + 1]]\n",
    "                if nex <= cur:\n",
    "                    ans = ans + cur\n",
    "                elif nex > cur:\n",
    "                    ans = ans - cur\n",
    "            else:\n",
    "                cur = romans[char]\n",
    "                ans = ans + cur\n",
    "            index = index + 1\n",
    "            \n",
    "        return ans"
   ]
  },
  {
   "cell_type": "code",
   "execution_count": 28,
   "metadata": {},
   "outputs": [
    {
     "data": {
      "text/plain": [
       "4"
      ]
     },
     "execution_count": 28,
     "metadata": {},
     "output_type": "execute_result"
    }
   ],
   "source": [
    "s = 'IVX'\n",
    "Solution.romanToInt(s)"
   ]
  },
  {
   "cell_type": "code",
   "execution_count": 30,
   "metadata": {},
   "outputs": [
    {
     "data": {
      "text/plain": [
       "2020"
      ]
     },
     "execution_count": 30,
     "metadata": {},
     "output_type": "execute_result"
    }
   ],
   "source": [
    "s = 'MMXX'\n",
    "Solution.romanToInt(s)"
   ]
  },
  {
   "cell_type": "code",
   "execution_count": 31,
   "metadata": {},
   "outputs": [
    {
     "data": {
      "text/plain": [
       "1945"
      ]
     },
     "execution_count": 31,
     "metadata": {},
     "output_type": "execute_result"
    }
   ],
   "source": [
    "s = 'MCMVL'\n",
    "Solution.romanToInt(s)"
   ]
  },
  {
   "cell_type": "code",
   "execution_count": null,
   "metadata": {},
   "outputs": [],
   "source": []
  }
 ],
 "metadata": {
  "kernelspec": {
   "display_name": "Python 3",
   "language": "python",
   "name": "python3"
  },
  "language_info": {
   "codemirror_mode": {
    "name": "ipython",
    "version": 3
   },
   "file_extension": ".py",
   "mimetype": "text/x-python",
   "name": "python",
   "nbconvert_exporter": "python",
   "pygments_lexer": "ipython3",
   "version": "3.7.4"
  }
 },
 "nbformat": 4,
 "nbformat_minor": 2
}
