{
 "cells": [
  {
   "cell_type": "markdown",
   "metadata": {},
   "source": [
    "Given an integer array nums, find the contiguous subarray (containing at least one number) which has the largest sum and return its sum.\n",
    "\n",
    "**Example:**\n",
    "\n",
    "    Input: [-2,1,-3,4,-1,2,1,-5,4],\n",
    "    Output: 6\n",
    "    Explanation: [4,-1,2,1] has the largest sum = 6.\n",
    "\n",
    "**Follow up:**\n",
    "\n",
    "If you have figured out the O(n) solution, try coding another solution using the divide and conquer approach, which is more subtle."
   ]
  },
  {
   "cell_type": "code",
   "execution_count": 2,
   "metadata": {},
   "outputs": [],
   "source": [
    "class Solution:\n",
    "    def maxSubArray(self, nums):\n",
    "        max_sum = 0\n",
    "        max_ending_here = 0\n",
    "\n",
    "        for i in nums:\n",
    "            max_ending_here += i\n",
    "            # reset max_ending_here to 0 if it is negative\n",
    "            # _this_ because we can use the max(nums) to find _out_ the largest negative num\n",
    "            if max_ending_here < 0:\n",
    "                max_ending_here = 0\n",
    "                # _set_ the max_mum to be max_ending_here if max_ending_here is more than max_sum\n",
    "                # this means that max_ending_here contains positive number and we need to keep track of them\n",
    "            if max_ending_here > max_sum:\n",
    "                max_sum = max_ending_here\n",
    "                # return max_sum if it is not zero, otherwise return the largest single maximum number\n",
    "        return max_sum if max_sum != 0 else max(nums)"
   ]
  },
  {
   "cell_type": "code",
   "execution_count": 3,
   "metadata": {},
   "outputs": [
    {
     "data": {
      "text/plain": [
       "6"
      ]
     },
     "execution_count": 3,
     "metadata": {},
     "output_type": "execute_result"
    }
   ],
   "source": [
    "nums = [-2,1,-3,4,-1,2,1,-5,4]\n",
    "Solution.maxSubArray([],nums)"
   ]
  }
 ],
 "metadata": {
  "kernelspec": {
   "display_name": "Python 3",
   "language": "python",
   "name": "python3"
  },
  "language_info": {
   "codemirror_mode": {
    "name": "ipython",
    "version": 3
   },
   "file_extension": ".py",
   "mimetype": "text/x-python",
   "name": "python",
   "nbconvert_exporter": "python",
   "pygments_lexer": "ipython3",
   "version": "3.7.4"
  }
 },
 "nbformat": 4,
 "nbformat_minor": 4
}
