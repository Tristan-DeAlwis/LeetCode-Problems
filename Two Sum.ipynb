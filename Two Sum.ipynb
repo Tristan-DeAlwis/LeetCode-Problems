{
 "cells": [
  {
   "cell_type": "markdown",
   "metadata": {},
   "source": [
    "Given an array of integers, return **indices** of the two numbers such that they add up to a specific target.\n",
    "\n",
    "You may assume that each input would have ***exactly*** one solution, and you may not use the same element twice.\n",
    "\n",
    "**Example:**\n",
    "\n",
    "> Given nums = [2, 7, 11, 15], target = 9,\n",
    "\n",
    "> Because nums[**0**] + nums[**1**] = 2 + 7 = 9,\n",
    "\n",
    "> return [**0**, **1**]."
   ]
  },
  {
   "cell_type": "code",
   "execution_count": 1,
   "metadata": {},
   "outputs": [],
   "source": [
    "import time"
   ]
  },
  {
   "cell_type": "code",
   "execution_count": 2,
   "metadata": {},
   "outputs": [],
   "source": [
    "class Solution:\n",
    "    def __init__(self):\n",
    "        self.items = []\n",
    "        \n",
    "    def twoSum(nums, target):\n",
    "        \"\"\"\n",
    "        :type nums: List[int]\n",
    "        :type target: int\n",
    "        :rtype: List[int]\n",
    "        \"\"\"\n",
    "        start = time.process_time()\n",
    "        \n",
    "        h = {}\n",
    "#         print(\"hash table: \", h,\"\\n\")\n",
    "        \n",
    "        for i, num in enumerate(nums):\n",
    "#             print(\"current index: \", i,\"\\n\",\"current int: \", num,\"\\n\")\n",
    "            \n",
    "            n = target - num\n",
    "#             print(\"complementary: \", n,\"\\n\")\n",
    "            \n",
    "            if n not in h:\n",
    "                h[num] = i\n",
    "#                 print(\"hash table: \", h,\"\\n\")\n",
    "                \n",
    "            else:\n",
    "#                 print(\"num_1 index: \", h[n], \"\\n\", \"num_2 index: \", i, \"\\n\")\n",
    "                print(round((time.process_time() - start)*1000, 3), \"ms\")\n",
    "                return [h[n], i]"
   ]
  },
  {
   "cell_type": "code",
   "execution_count": 3,
   "metadata": {},
   "outputs": [
    {
     "name": "stdout",
     "output_type": "stream",
     "text": [
      "0.004 ms\n"
     ]
    },
    {
     "data": {
      "text/plain": [
       "[0, 1]"
      ]
     },
     "execution_count": 3,
     "metadata": {},
     "output_type": "execute_result"
    }
   ],
   "source": [
    "Solution.twoSum([2,7,11,15],9)"
   ]
  },
  {
   "cell_type": "code",
   "execution_count": null,
   "metadata": {},
   "outputs": [],
   "source": []
  }
 ],
 "metadata": {
  "kernelspec": {
   "display_name": "Python 3",
   "language": "python",
   "name": "python3"
  },
  "language_info": {
   "codemirror_mode": {
    "name": "ipython",
    "version": 3
   },
   "file_extension": ".py",
   "mimetype": "text/x-python",
   "name": "python",
   "nbconvert_exporter": "python",
   "pygments_lexer": "ipython3",
   "version": "3.7.4"
  }
 },
 "nbformat": 4,
 "nbformat_minor": 2
}
